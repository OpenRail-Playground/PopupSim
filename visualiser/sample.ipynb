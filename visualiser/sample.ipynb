{
 "cells": [
  {
   "metadata": {},
   "cell_type": "markdown",
   "source": [
    "# This is a sample Jupyter Notebook\n",
    "\n",
    "Below is an example of a code cell. \n",
    "Put your cursor into the cell and press Shift+Enter to execute it and select the next one, or click 'Run Cell' button.\n",
    "\n",
    "Press Double Shift to search everywhere for classes, files, tool windows, actions, and settings.\n",
    "\n",
    "To learn more about Jupyter Notebooks in PyCharm, see [help](https://www.jetbrains.com/help/pycharm/ipython-notebook-support.html).\n",
    "For an overview of PyCharm, go to Help -> Learn IDE features or refer to [our documentation](https://www.jetbrains.com/help/pycharm/getting-started.html)."
   ],
   "id": "8a77807f92f26ee"
  },
  {
   "metadata": {
    "ExecuteTime": {
     "end_time": "2024-10-01T09:49:58.643715Z",
     "start_time": "2024-10-01T09:49:58.640504Z"
    }
   },
   "cell_type": "code",
   "source": "",
   "id": "fbc121e30a2defb3",
   "outputs": [
    {
     "name": "stdout",
     "output_type": "stream",
     "text": [
      "Hello World!\n"
     ]
    }
   ],
   "execution_count": 1
  },
  {
   "metadata": {
    "ExecuteTime": {
     "end_time": "2024-10-01T09:59:11.187437Z",
     "start_time": "2024-10-01T09:59:10.825096Z"
    }
   },
   "cell_type": "code",
   "source": [
    "import drawsvg as draw\n",
    "\n",
    "d = draw.Drawing(200, 100, origin='center')\n",
    "\n",
    "# Draw an irregular polygon\n",
    "d.append(draw.Lines(-80, 45,\n",
    "                     70, 49,\n",
    "                     95, -49,\n",
    "                    -90, -40,\n",
    "                    close=False,\n",
    "            fill='#eeee00',\n",
    "            stroke='black'))\n",
    "\n",
    "# Draw a rectangle\n",
    "r = draw.Rectangle(-80, -50, 40, 50, fill='#1248ff')\n",
    "r.append_title(\"Our first rectangle\")  # Add a tooltip\n",
    "d.append(r)\n",
    "\n",
    "# Draw a circle\n",
    "d.append(draw.Circle(-40, 10, 30,\n",
    "        fill='red', stroke_width=2, stroke='black'))\n",
    "\n",
    "# Draw an arbitrary path (a triangle in this case)\n",
    "p = draw.Path(stroke_width=2, stroke='lime', fill='black', fill_opacity=0.2)\n",
    "p.M(-10, -20)  # Start path at point (-10, -20)\n",
    "p.C(30, 10, 30, -50, 70, -20)  # Draw a curve to (70, -20)\n",
    "d.append(p)\n",
    "\n",
    "# Draw text\n",
    "d.append(draw.Text('Basic text', 8, -10, -35, fill='blue'))  # 8pt text at (-10, -35)\n",
    "d.append(draw.Text('Path text', 8, path=p, text_anchor='start', line_height=1))\n",
    "d.append(draw.Text(['Multi-line', 'text'], 8, path=p, text_anchor='end', center=True))\n",
    "\n",
    "# Draw multiple circular arcs\n",
    "d.append(draw.ArcLine(60, 20, 20, 60, 270,\n",
    "        stroke='red', stroke_width=5, fill='red', fill_opacity=0.2))\n",
    "d.append(draw.Arc(60, 20, 20, 90, -60, cw=True,\n",
    "        stroke='green', stroke_width=3, fill='none'))\n",
    "d.append(draw.Arc(60, 20, 20, -60, 90, cw=False,\n",
    "        stroke='blue', stroke_width=1, fill='black', fill_opacity=0.3))\n",
    "\n",
    "# Draw arrows\n",
    "arrow = draw.Marker(-0.1, -0.51, 0.9, 0.5, scale=4, orient='auto')\n",
    "arrow.append(draw.Lines(-0.1, 0.5, -0.1, -0.5, 0.9, 0, fill='red', close=True))\n",
    "p = draw.Path(stroke='red', stroke_width=2, fill='none',\n",
    "        marker_end=arrow)  # Add an arrow to the end of a path\n",
    "p.M(20, 40).L(20, 27).L(0, 20)  # Chain multiple path commands\n",
    "d.append(p)\n",
    "d.append(draw.Line(30, 20, 0, 10,\n",
    "        stroke='red', stroke_width=2, fill='none',\n",
    "        marker_end=arrow))  # Add an arrow to the end of a line\n",
    "\n",
    "d.set_pixel_scale(2)  # Set number of pixels per geometry unit\n",
    "#d.set_render_size(400, 200)  # Alternative to set_pixel_scale\n",
    "d.save_svg('example.svg')\n",
    "d.save_png('example.png')\n",
    "\n",
    "# Display in Jupyter notebook\n",
    "#d.rasterize()  # Display as PNG\n",
    "d  # Display as SVG"
   ],
   "id": "7b3f5706ef108ff1",
   "outputs": [
    {
     "ename": "ImportError",
     "evalue": "Failed to load CairoSVG. drawSvg will be unable to output PNG or other raster image formats. See https://github.com/cduck/drawsvg#full-feature-install for more details.",
     "output_type": "error",
     "traceback": [
      "\u001B[0;31m---------------------------------------------------------------------------\u001B[0m",
      "\u001B[0;31mOSError\u001B[0m                                   Traceback (most recent call last)",
      "File \u001B[0;32m~/miniconda3/lib/python3.12/site-packages/drawsvg/raster.py:9\u001B[0m, in \u001B[0;36mdelay_import_cairo\u001B[0;34m()\u001B[0m\n\u001B[1;32m      8\u001B[0m \u001B[38;5;28;01mtry\u001B[39;00m:\n\u001B[0;32m----> 9\u001B[0m     \u001B[38;5;28;01mimport\u001B[39;00m \u001B[38;5;21;01mcairosvg\u001B[39;00m\n\u001B[1;32m     10\u001B[0m \u001B[38;5;28;01mexcept\u001B[39;00m \u001B[38;5;167;01mOSError\u001B[39;00m \u001B[38;5;28;01mas\u001B[39;00m e:\n",
      "File \u001B[0;32m~/miniconda3/lib/python3.12/site-packages/cairosvg/__init__.py:26\u001B[0m\n\u001B[1;32m     25\u001B[0m \u001B[38;5;66;03m# VERSION is used in the \"url\" module imported by \"surface\"\u001B[39;00m\n\u001B[0;32m---> 26\u001B[0m \u001B[38;5;28;01mfrom\u001B[39;00m \u001B[38;5;21;01m.\u001B[39;00m \u001B[38;5;28;01mimport\u001B[39;00m surface  \u001B[38;5;66;03m# noqa isort:skip\u001B[39;00m\n\u001B[1;32m     29\u001B[0m SURFACES \u001B[38;5;241m=\u001B[39m {\n\u001B[1;32m     30\u001B[0m     \u001B[38;5;124m'\u001B[39m\u001B[38;5;124mPDF\u001B[39m\u001B[38;5;124m'\u001B[39m: surface\u001B[38;5;241m.\u001B[39mPDFSurface,\n\u001B[1;32m     31\u001B[0m     \u001B[38;5;124m'\u001B[39m\u001B[38;5;124mPNG\u001B[39m\u001B[38;5;124m'\u001B[39m: surface\u001B[38;5;241m.\u001B[39mPNGSurface,\n\u001B[0;32m   (...)\u001B[0m\n\u001B[1;32m     34\u001B[0m     \u001B[38;5;124m'\u001B[39m\u001B[38;5;124mSVG\u001B[39m\u001B[38;5;124m'\u001B[39m: surface\u001B[38;5;241m.\u001B[39mSVGSurface,\n\u001B[1;32m     35\u001B[0m }\n",
      "File \u001B[0;32m~/miniconda3/lib/python3.12/site-packages/cairosvg/surface.py:9\u001B[0m\n\u001B[1;32m      7\u001B[0m \u001B[38;5;28;01mimport\u001B[39;00m \u001B[38;5;21;01mio\u001B[39;00m\n\u001B[0;32m----> 9\u001B[0m \u001B[38;5;28;01mimport\u001B[39;00m \u001B[38;5;21;01mcairocffi\u001B[39;00m \u001B[38;5;28;01mas\u001B[39;00m \u001B[38;5;21;01mcairo\u001B[39;00m\n\u001B[1;32m     11\u001B[0m \u001B[38;5;28;01mfrom\u001B[39;00m \u001B[38;5;21;01m.\u001B[39;00m\u001B[38;5;21;01mcolors\u001B[39;00m \u001B[38;5;28;01mimport\u001B[39;00m color, negate_color\n",
      "File \u001B[0;32m~/miniconda3/lib/python3.12/site-packages/cairocffi/__init__.py:60\u001B[0m\n\u001B[1;32m     57\u001B[0m     \u001B[38;5;28;01mraise\u001B[39;00m \u001B[38;5;167;01mOSError\u001B[39;00m(error_message)  \u001B[38;5;66;03m# pragma: no cover\u001B[39;00m\n\u001B[0;32m---> 60\u001B[0m cairo \u001B[38;5;241m=\u001B[39m dlopen(\n\u001B[1;32m     61\u001B[0m     ffi, (\u001B[38;5;124m'\u001B[39m\u001B[38;5;124mcairo-2\u001B[39m\u001B[38;5;124m'\u001B[39m, \u001B[38;5;124m'\u001B[39m\u001B[38;5;124mcairo\u001B[39m\u001B[38;5;124m'\u001B[39m, \u001B[38;5;124m'\u001B[39m\u001B[38;5;124mlibcairo-2\u001B[39m\u001B[38;5;124m'\u001B[39m),\n\u001B[1;32m     62\u001B[0m     (\u001B[38;5;124m'\u001B[39m\u001B[38;5;124mlibcairo.so.2\u001B[39m\u001B[38;5;124m'\u001B[39m, \u001B[38;5;124m'\u001B[39m\u001B[38;5;124mlibcairo.2.dylib\u001B[39m\u001B[38;5;124m'\u001B[39m, \u001B[38;5;124m'\u001B[39m\u001B[38;5;124mlibcairo-2.dll\u001B[39m\u001B[38;5;124m'\u001B[39m))\n\u001B[1;32m     65\u001B[0m \u001B[38;5;28;01mclass\u001B[39;00m \u001B[38;5;21;01m_keepref\u001B[39;00m(\u001B[38;5;28mobject\u001B[39m):  \u001B[38;5;66;03m# noqa: N801\u001B[39;00m\n",
      "File \u001B[0;32m~/miniconda3/lib/python3.12/site-packages/cairocffi/__init__.py:57\u001B[0m, in \u001B[0;36mdlopen\u001B[0;34m(ffi, library_names, filenames)\u001B[0m\n\u001B[1;32m     55\u001B[0m error_message \u001B[38;5;241m=\u001B[39m \u001B[38;5;124m'\u001B[39m\u001B[38;5;130;01m\\n\u001B[39;00m\u001B[38;5;124m'\u001B[39m\u001B[38;5;241m.\u001B[39mjoin(  \u001B[38;5;66;03m# pragma: no cover\u001B[39;00m\n\u001B[1;32m     56\u001B[0m     \u001B[38;5;28mstr\u001B[39m(exception) \u001B[38;5;28;01mfor\u001B[39;00m exception \u001B[38;5;129;01min\u001B[39;00m exceptions)\n\u001B[0;32m---> 57\u001B[0m \u001B[38;5;28;01mraise\u001B[39;00m \u001B[38;5;167;01mOSError\u001B[39;00m(error_message)\n",
      "\u001B[0;31mOSError\u001B[0m: no library called \"cairo-2\" was found\nno library called \"cairo\" was found\nno library called \"libcairo-2\" was found\ncannot load library 'libcairo.so.2': dlopen(libcairo.so.2, 0x0002): tried: 'libcairo.so.2' (no such file), '/System/Volumes/Preboot/Cryptexes/OSlibcairo.so.2' (no such file), '/Users/tamas/miniconda3/lib/python3.12/site-packages/../../libcairo.so.2' (no such file), '/Users/tamas/miniconda3/bin/../lib/libcairo.so.2' (no such file), '/usr/lib/libcairo.so.2' (no such file, not in dyld cache), 'libcairo.so.2' (no such file), '/usr/local/lib/libcairo.so.2' (no such file), '/usr/lib/libcairo.so.2' (no such file, not in dyld cache).  Additionally, ctypes.util.find_library() did not manage to locate a library called 'libcairo.so.2'\ncannot load library 'libcairo.2.dylib': dlopen(libcairo.2.dylib, 0x0002): tried: 'libcairo.2.dylib' (no such file), '/System/Volumes/Preboot/Cryptexes/OSlibcairo.2.dylib' (no such file), '/Users/tamas/miniconda3/lib/python3.12/site-packages/../../libcairo.2.dylib' (no such file), '/Users/tamas/miniconda3/bin/../lib/libcairo.2.dylib' (no such file), '/usr/lib/libcairo.2.dylib' (no such file, not in dyld cache), 'libcairo.2.dylib' (no such file), '/usr/local/lib/libcairo.2.dylib' (no such file), '/usr/lib/libcairo.2.dylib' (no such file, not in dyld cache).  Additionally, ctypes.util.find_library() did not manage to locate a library called 'libcairo.2.dylib'\ncannot load library 'libcairo-2.dll': dlopen(libcairo-2.dll, 0x0002): tried: 'libcairo-2.dll' (no such file), '/System/Volumes/Preboot/Cryptexes/OSlibcairo-2.dll' (no such file), '/Users/tamas/miniconda3/lib/python3.12/site-packages/../../libcairo-2.dll' (no such file), '/Users/tamas/miniconda3/bin/../lib/libcairo-2.dll' (no such file), '/usr/lib/libcairo-2.dll' (no such file, not in dyld cache), 'libcairo-2.dll' (no such file), '/usr/local/lib/libcairo-2.dll' (no such file), '/usr/lib/libcairo-2.dll' (no such file, not in dyld cache).  Additionally, ctypes.util.find_library() did not manage to locate a library called 'libcairo-2.dll'",
      "\nThe above exception was the direct cause of the following exception:\n",
      "\u001B[0;31mImportError\u001B[0m                               Traceback (most recent call last)",
      "Cell \u001B[0;32mIn[1], line 56\u001B[0m\n\u001B[1;32m     54\u001B[0m \u001B[38;5;66;03m#d.set_render_size(400, 200)  # Alternative to set_pixel_scale\u001B[39;00m\n\u001B[1;32m     55\u001B[0m d\u001B[38;5;241m.\u001B[39msave_svg(\u001B[38;5;124m'\u001B[39m\u001B[38;5;124mexample.svg\u001B[39m\u001B[38;5;124m'\u001B[39m)\n\u001B[0;32m---> 56\u001B[0m d\u001B[38;5;241m.\u001B[39msave_png(\u001B[38;5;124m'\u001B[39m\u001B[38;5;124mexample.png\u001B[39m\u001B[38;5;124m'\u001B[39m)\n\u001B[1;32m     58\u001B[0m \u001B[38;5;66;03m# Display in Jupyter notebook\u001B[39;00m\n\u001B[1;32m     59\u001B[0m \u001B[38;5;66;03m#d.rasterize()  # Display as PNG\u001B[39;00m\n\u001B[1;32m     60\u001B[0m d\n",
      "File \u001B[0;32m~/miniconda3/lib/python3.12/site-packages/drawsvg/drawing.py:348\u001B[0m, in \u001B[0;36mDrawing.save_png\u001B[0;34m(self, fname, context)\u001B[0m\n\u001B[1;32m    347\u001B[0m \u001B[38;5;28;01mdef\u001B[39;00m \u001B[38;5;21msave_png\u001B[39m(\u001B[38;5;28mself\u001B[39m, fname, context\u001B[38;5;241m=\u001B[39m\u001B[38;5;28;01mNone\u001B[39;00m):\n\u001B[0;32m--> 348\u001B[0m     \u001B[38;5;28mself\u001B[39m\u001B[38;5;241m.\u001B[39mrasterize(to_file\u001B[38;5;241m=\u001B[39mfname, context\u001B[38;5;241m=\u001B[39mcontext)\n",
      "File \u001B[0;32m~/miniconda3/lib/python3.12/site-packages/drawsvg/drawing.py:351\u001B[0m, in \u001B[0;36mDrawing.rasterize\u001B[0;34m(self, to_file, context)\u001B[0m\n\u001B[1;32m    349\u001B[0m \u001B[38;5;28;01mdef\u001B[39;00m \u001B[38;5;21mrasterize\u001B[39m(\u001B[38;5;28mself\u001B[39m, to_file\u001B[38;5;241m=\u001B[39m\u001B[38;5;28;01mNone\u001B[39;00m, context\u001B[38;5;241m=\u001B[39m\u001B[38;5;28;01mNone\u001B[39;00m):\n\u001B[1;32m    350\u001B[0m     \u001B[38;5;28;01mif\u001B[39;00m to_file \u001B[38;5;129;01mis\u001B[39;00m \u001B[38;5;129;01mnot\u001B[39;00m \u001B[38;5;28;01mNone\u001B[39;00m:\n\u001B[0;32m--> 351\u001B[0m         \u001B[38;5;28;01mreturn\u001B[39;00m raster\u001B[38;5;241m.\u001B[39mRaster\u001B[38;5;241m.\u001B[39mfrom_svg_to_file(\n\u001B[1;32m    352\u001B[0m                 \u001B[38;5;28mself\u001B[39m\u001B[38;5;241m.\u001B[39mas_svg(context\u001B[38;5;241m=\u001B[39mcontext), to_file)\n\u001B[1;32m    353\u001B[0m     \u001B[38;5;28;01melse\u001B[39;00m:\n\u001B[1;32m    354\u001B[0m         \u001B[38;5;28;01mreturn\u001B[39;00m raster\u001B[38;5;241m.\u001B[39mRaster\u001B[38;5;241m.\u001B[39mfrom_svg(\u001B[38;5;28mself\u001B[39m\u001B[38;5;241m.\u001B[39mas_svg(context\u001B[38;5;241m=\u001B[39mcontext))\n",
      "File \u001B[0;32m~/miniconda3/lib/python3.12/site-packages/drawsvg/raster.py:56\u001B[0m, in \u001B[0;36mRaster.from_svg_to_file\u001B[0;34m(svg_data, out_file)\u001B[0m\n\u001B[1;32m     54\u001B[0m \u001B[38;5;129m@staticmethod\u001B[39m\n\u001B[1;32m     55\u001B[0m \u001B[38;5;28;01mdef\u001B[39;00m \u001B[38;5;21mfrom_svg_to_file\u001B[39m(svg_data, out_file):\n\u001B[0;32m---> 56\u001B[0m     cairosvg \u001B[38;5;241m=\u001B[39m delay_import_cairo()\n\u001B[1;32m     57\u001B[0m     cairosvg\u001B[38;5;241m.\u001B[39msvg2png(bytestring\u001B[38;5;241m=\u001B[39msvg_data, write_to\u001B[38;5;241m=\u001B[39mout_file)\n\u001B[1;32m     58\u001B[0m     \u001B[38;5;28;01mreturn\u001B[39;00m Raster(\u001B[38;5;28;01mNone\u001B[39;00m, png_file\u001B[38;5;241m=\u001B[39mout_file)\n",
      "File \u001B[0;32m~/miniconda3/lib/python3.12/site-packages/drawsvg/raster.py:11\u001B[0m, in \u001B[0;36mdelay_import_cairo\u001B[0;34m()\u001B[0m\n\u001B[1;32m      9\u001B[0m     \u001B[38;5;28;01mimport\u001B[39;00m \u001B[38;5;21;01mcairosvg\u001B[39;00m\n\u001B[1;32m     10\u001B[0m \u001B[38;5;28;01mexcept\u001B[39;00m \u001B[38;5;167;01mOSError\u001B[39;00m \u001B[38;5;28;01mas\u001B[39;00m e:\n\u001B[0;32m---> 11\u001B[0m     \u001B[38;5;28;01mraise\u001B[39;00m \u001B[38;5;167;01mImportError\u001B[39;00m(\n\u001B[1;32m     12\u001B[0m         \u001B[38;5;124m'\u001B[39m\u001B[38;5;124mFailed to load CairoSVG. \u001B[39m\u001B[38;5;124m'\u001B[39m\n\u001B[1;32m     13\u001B[0m         \u001B[38;5;124m'\u001B[39m\u001B[38;5;124mdrawSvg will be unable to output PNG or other raster image \u001B[39m\u001B[38;5;124m'\u001B[39m\n\u001B[1;32m     14\u001B[0m         \u001B[38;5;124m'\u001B[39m\u001B[38;5;124mformats. \u001B[39m\u001B[38;5;124m'\u001B[39m\n\u001B[1;32m     15\u001B[0m         \u001B[38;5;124m'\u001B[39m\u001B[38;5;124mSee https://github.com/cduck/drawsvg#full-feature-install \u001B[39m\u001B[38;5;124m'\u001B[39m\n\u001B[1;32m     16\u001B[0m         \u001B[38;5;124m'\u001B[39m\u001B[38;5;124mfor more details.\u001B[39m\u001B[38;5;124m'\u001B[39m\n\u001B[1;32m     17\u001B[0m     ) \u001B[38;5;28;01mfrom\u001B[39;00m \u001B[38;5;21;01me\u001B[39;00m\n\u001B[1;32m     18\u001B[0m \u001B[38;5;28;01mexcept\u001B[39;00m \u001B[38;5;167;01mImportError\u001B[39;00m \u001B[38;5;28;01mas\u001B[39;00m e:\n\u001B[1;32m     19\u001B[0m     \u001B[38;5;28;01mraise\u001B[39;00m \u001B[38;5;167;01mImportError\u001B[39;00m(\n\u001B[1;32m     20\u001B[0m         \u001B[38;5;124m'\u001B[39m\u001B[38;5;124mCairoSVG will need to be installed to rasterize images. \u001B[39m\u001B[38;5;124m'\u001B[39m\n\u001B[1;32m     21\u001B[0m         \u001B[38;5;124m'\u001B[39m\u001B[38;5;124mInstall with `python3 -m pip install \u001B[39m\u001B[38;5;124m\"\u001B[39m\u001B[38;5;124mdrawsvg[all]\u001B[39m\u001B[38;5;124m\"\u001B[39m\u001B[38;5;124m` \u001B[39m\u001B[38;5;124m'\u001B[39m\n\u001B[0;32m   (...)\u001B[0m\n\u001B[1;32m     24\u001B[0m         \u001B[38;5;124m'\u001B[39m\u001B[38;5;124mfor more details.\u001B[39m\u001B[38;5;124m'\u001B[39m\n\u001B[1;32m     25\u001B[0m     ) \u001B[38;5;28;01mfrom\u001B[39;00m \u001B[38;5;21;01me\u001B[39;00m\n",
      "\u001B[0;31mImportError\u001B[0m: Failed to load CairoSVG. drawSvg will be unable to output PNG or other raster image formats. See https://github.com/cduck/drawsvg#full-feature-install for more details."
     ]
    }
   ],
   "execution_count": 1
  },
  {
   "metadata": {},
   "cell_type": "code",
   "outputs": [],
   "execution_count": null,
   "source": "",
   "id": "8fda0a7bb75a6aa5"
  }
 ],
 "metadata": {
  "kernelspec": {
   "display_name": "Python 3",
   "language": "python",
   "name": "python3"
  },
  "language_info": {
   "codemirror_mode": {
    "name": "ipython",
    "version": 2
   },
   "file_extension": ".py",
   "mimetype": "text/x-python",
   "name": "python",
   "nbconvert_exporter": "python",
   "pygments_lexer": "ipython2",
   "version": "2.7.6"
  }
 },
 "nbformat": 4,
 "nbformat_minor": 5
}
